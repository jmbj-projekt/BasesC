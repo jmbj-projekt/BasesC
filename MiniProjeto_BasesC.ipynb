{
  "nbformat": 4,
  "nbformat_minor": 0,
  "metadata": {
    "colab": {
      "provenance": []
    },
    "kernelspec": {
      "name": "python3",
      "display_name": "Python 3"
    },
    "language_info": {
      "name": "python"
    }
  },
  "cells": [
    {
      "cell_type": "markdown",
      "source": [
        "# Mini Projeto - Orientações\n",
        "\n",
        "▶ **Objetivo**\n",
        "\n",
        "Neste mini-projeto, você irá analisar indicadores sociais ou econômicos utilizando programação, estatística e visualização gráfica. O projeto envolve trabalhar com dados temporais (dados que cobrem vários anos) e aplicar técnicas simples de análise de dados.\n",
        "\n",
        "\n",
        "Você irá escolher dois indicadores de um país à sua escolha. A fonte de dados tem informações por ano, por isso você precisará escolher:\n",
        "\n",
        "  * *Período ANO*: Escolha um ano específico (por exemplo, 2020) e\n",
        "\n",
        "  * *Período FAIXA*: Escolha uma faixa de anos para comparar (por exemplo, de 2015 a 2025).\n",
        "\n",
        "\n",
        "O objetivo do projeto é analisar esses dois indicadores, considerando os dois períodos, e gerar visualizações gráficas, além de aplicar uma regressão simples.\n",
        "\n",
        "Passos a seguir para a análise:\n",
        "\n",
        "  * Ler os dados: O primeiro passo é importar os dados dos indicadores escolhidos (em formato CSV).\n",
        "\n",
        "  * Estatística descritiva: Calcular algumas estatísticas básicas para os indicadores, como a média, mediana, desvio padrão e outros valores descritivos para os períodos ANO e FAIXA.\n",
        "\n",
        "  * Criar os gráficos:\n",
        "\n",
        "     * Evolução temporal (gráfico de linha): Mostre como o indicador evoluiu ao longo do tempo no período FAIXA escolhido. A linha do gráfico pode mostrar, por exemplo, como a taxa de desemprego de um país muda ao longo de vários anos.\n",
        "\n",
        "  * Regressão simples: Aplique uma regressão simples entre os dois indicadores no período ANO e FAIXA. A regressão ajuda a entender a relação entre esses dois indicadores ao longo do tempo.\n",
        "\n",
        "▶ **Fonte dos Dados**\n",
        "\n",
        "Os dados podem ser obtidos no site Gapminder (https://www.gapminder.org/data/), que fornece uma ampla gama de indicadores sociais e econômicos. Esses dados estão disponíveis em arquivos CSV ou XLS.\n",
        "\n",
        "▶ **Formato de Entrega**\n",
        "\n",
        "Você deverá entregar a solução em um notebook do Google Colab (formato .ipynb). Certifique-se de anexar o arquivo de dados CSV utilizado no seu projeto. O seu código será executado diretamente no ambiente do Colab.\n",
        "\n",
        "▶ **Critério de Avaliação**\n",
        "\n",
        "| **Critério**                                | **Descrição**                                                                                             | **Pontuação Máxima**    |\n",
        "| ------------------------------------------- | --------------------------------------------------------------------------------------------------------- | ----------------------- |\n",
        "| **1. Funcionalidade de Leitura dos Dados**  | Leitura correta do arquivo CSV e visualização das primeiras linhas.                                       | 1 ponto                 |\n",
        "| **2. Estatísticas Descritivas**             | Aplicação correta da estatística descritiva para os períodos ANO e FAIXA (média, mediana, desvio padrão). | 2 pontos              |\n",
        "| **3. Gráfico de Evolução Temporal (linha)** | Gráfico de linha mostrando a evolução do indicador no período FAIXA.                                      | 1,5 pontos              |\n",
        "| **4. Implementação de Regressão Simples**   | Aplicação de regressão simples entre os dois indicadores, com interpretação dos resultados para o período ANO.               | 2,5 pontos                |\n",
        "| **5. Implementação de Regressão Simples**   | Aplicação de regressão simples entre os dois indicadores, com interpretação dos resultados para o período FAIXA.               | 3 pontos                |\n",
        "\n",
        "### **Pontuação Final**\n",
        "\n",
        "* A pontuação mínima é **0 pontos** (se não rodar ou houver erros críticos).\n",
        "* A pontuação será descontada por funcionalidades não entregues ou erradas.\n"
      ],
      "metadata": {
        "id": "Thngfq92-FXD"
      }
    }
  ]
}